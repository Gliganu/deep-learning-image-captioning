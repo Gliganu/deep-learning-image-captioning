{
 "cells": [
  {
   "cell_type": "code",
   "execution_count": null,
   "metadata": {
    "collapsed": false
   },
   "outputs": [],
   "source": [
    "from keras.models import Sequential\n",
    "from keras.layers.core import Dense, Dropout, Activation, Flatten\n",
    "from keras.layers.convolutional import Convolution2D, MaxPooling2D, ZeroPadding2D\n",
    "from keras.optimizers import SGD, Adadelta, Adagrad\n",
    "from keras.utils import np_utils, generic_utils\n",
    "from keras.callbacks import EarlyStopping\n",
    "from keras.layers.advanced_activations import PReLU, LeakyReLU\n",
    "from keras.layers import Embedding,GRU,TimeDistributed,RepeatVector,Merge\n",
    "from keras.preprocessing.text import one_hot\n",
    "from keras.preprocessing import sequence\n",
    "import cv2\n",
    "import numpy as np\n",
    "from vgg16 import Vgg16\n",
    "\n",
    "from os import listdir\n",
    "from os.path import isfile, join\n",
    "\n",
    "import matplotlib.pyplot as plt\n",
    "import matplotlib.image as mpimg\n",
    "\n",
    "import PIL.Image\n",
    "\n",
    "import json\n",
    "from tqdm import tqdm\n",
    "\n",
    "from keras.optimizers import SGD, RMSprop, Adam\n",
    "\n",
    "from utils import *\n",
    "import cPickle as pickle\n",
    "from matplotlib import pyplot as plt\n",
    "\n",
    "import collections\n"
   ]
  },
  {
   "cell_type": "code",
   "execution_count": null,
   "metadata": {
    "collapsed": true
   },
   "outputs": [],
   "source": [
    "save_path = \"/home/docker/fastai-courses/deeplearning1/nbs/persistent/coco/\"\n",
    "images_path = save_path+\"raw_images/val2014\"\n",
    "image_data_arr_path = save_path+\"imageDataArr/\"\n",
    "images_concat_t_path = save_path+\"imagesConcatT/\"\n",
    "captions_path = save_path+\"captions/\"\n",
    "np_save_path = save_path+\"temp/\"\n",
    "model_path = save_path+\"models/\"\n",
    "images_vgg_features_path = save_path + \"images_vgg_features/\"\n"
   ]
  },
  {
   "cell_type": "code",
   "execution_count": null,
   "metadata": {
    "collapsed": true
   },
   "outputs": [],
   "source": [
    "def get_captions_from_batch(batch_nr):\n",
    "    captions = pickle.load(open(captions_path+\"val2014_captions_\"+str(batch_nr)+\".p\", \"rb\" ))\n",
    "    return captions\n",
    "\n",
    "def get_truncated_captions_from_batch(batch_nr,nr_instances):\n",
    "    captions = get_captions_from_batch(batch_nr)\n",
    "    captions = captions[:nr_instances]\n",
    "    return captions\n",
    "\n",
    "def first_N_captions_sum(captions,N):\n",
    "    caption_lengths = [len(caption.split()) for caption in captions]\n",
    "    counter=collections.Counter(caption_lengths)\n",
    "    return sum([value for key,value in counter.iteritems() if key <= N])\n",
    "\n",
    "def get_unique_words(captions):\n",
    "    unique_words = []\n",
    "    words = [caption.split() for caption in captions]\n",
    "   \n",
    "    for word in words:\n",
    "        unique_words.extend(word)\n",
    "        \n",
    "    unique_words = list(set(unique_words))\n",
    "    \n",
    "    return unique_words"
   ]
  },
  {
   "cell_type": "code",
   "execution_count": null,
   "metadata": {
    "collapsed": true
   },
   "outputs": [],
   "source": [
    "# (40438, 259, 13601)"
   ]
  },
  {
   "cell_type": "code",
   "execution_count": null,
   "metadata": {
    "collapsed": false
   },
   "outputs": [],
   "source": [
    "captions = get_captions_from_batch(batch_nr = 0)\n",
    "len(captions)"
   ]
  },
  {
   "cell_type": "code",
   "execution_count": null,
   "metadata": {
    "collapsed": false
   },
   "outputs": [],
   "source": [
    "totalSum = first_N_captions_sum(captions,500)\n",
    "totalSum\n",
    "\n",
    "N = 9\n",
    "firstN = first_N_captions_sum(captions,N)\n",
    "print(\"Captions of length <= %d  ----> Sum = %d  => Percentage = %f\"%(N,firstN,firstN/float(totalSum)))\n",
    "\n",
    "N = 10\n",
    "firstN = first_N_captions_sum(captions,N)\n",
    "print(\"Captions of length <= %d  ---> Sum = %d => Percentage = %f\"%(N,firstN,firstN/float(totalSum)))\n",
    "\n",
    "N = 15\n",
    "firstN = first_N_captions_sum(captions,N)\n",
    "print(\"Captions of length <= %d  ---> Sum = %d => Percentage = %f\"%(N,firstN,firstN/float(totalSum)))\n",
    "\n",
    "N = 20\n",
    "firstN = first_N_captions_sum(captions,N)\n",
    "print(\"Captions of length <= %d  ---> Sum = %d => Percentage = %f\"%(N,firstN,firstN/float(totalSum)))\n",
    "\n",
    "N = 50\n",
    "firstN = first_N_captions_sum(captions,N)\n",
    "print(\"Captions of length <= %d  ---> Sum = %d => Percentage = %f\"%(N,firstN,firstN/float(totalSum)))"
   ]
  },
  {
   "cell_type": "code",
   "execution_count": null,
   "metadata": {
    "collapsed": false
   },
   "outputs": [],
   "source": [
    "def no_words_with_min_appearances(captions,min_no_of_occurences):\n",
    "    \n",
    "    sentences = [caption.split() for caption in captions]\n",
    "    words = []\n",
    "    for word in sentences:\n",
    "        words.extend(word)\n",
    "\n",
    "    counter=collections.Counter(words)\n",
    "    nr_words = len([_ for word,no_appearances in counter.most_common() if no_appearances >= min_no_of_occurences])\n",
    "    \n",
    "    return nr_words"
   ]
  },
  {
   "cell_type": "code",
   "execution_count": null,
   "metadata": {
    "collapsed": true
   },
   "outputs": [],
   "source": [
    "allWords = float(13601)"
   ]
  },
  {
   "cell_type": "code",
   "execution_count": null,
   "metadata": {
    "collapsed": false
   },
   "outputs": [],
   "source": [
    "N = 1\n",
    "nr_words = no_words_with_min_appearances(captions,N)\n",
    "print(\"Min_no = %d app --> No of words = %d  ---> Percentage = %f\"%(N,nr_words,float(nr_words)/allWords))\n",
    "\n",
    "N = 5\n",
    "nr_words = no_words_with_min_appearances(captions,N)\n",
    "print(\"Min_no = %d app --> No of words = %d  ---> Percentage = %f\"%(N,nr_words,float(nr_words)/allWords))\n",
    "\n",
    "N = 10\n",
    "nr_words = no_words_with_min_appearances(captions,N)\n",
    "print(\"Min_no = %d app --> No of words = %d  ---> Percentage = %f\"%(N,nr_words,float(nr_words)/allWords))\n",
    "\n",
    "N = 100\n",
    "nr_words = no_words_with_min_appearances(captions,N)\n",
    "print(\"Min_no = %d app --> No of words = %d  ---> Percentage = %f\"%(N,nr_words,float(nr_words)/allWords))\n",
    "\n",
    "N = 500\n",
    "nr_words = no_words_with_min_appearances(captions,N)\n",
    "print(\"Min_no = %d app --> No of words = %d  ---> Percentage = %f\"%(N,nr_words,float(nr_words)/allWords))\n",
    "\n",
    "N = 5000\n",
    "nr_words = no_words_with_min_appearances(captions,N)\n",
    "print(\"Min_no = %d app --> No of words = %d  ---> Percentage = %f\"%(N,nr_words,float(nr_words)/allWords))"
   ]
  },
  {
   "cell_type": "code",
   "execution_count": null,
   "metadata": {
    "collapsed": true
   },
   "outputs": [],
   "source": []
  },
  {
   "cell_type": "code",
   "execution_count": null,
   "metadata": {
    "collapsed": true
   },
   "outputs": [],
   "source": []
  },
  {
   "cell_type": "code",
   "execution_count": null,
   "metadata": {
    "collapsed": true
   },
   "outputs": [],
   "source": []
  }
 ],
 "metadata": {
  "kernelspec": {
   "display_name": "Python 2",
   "language": "python",
   "name": "python2"
  },
  "language_info": {
   "codemirror_mode": {
    "name": "ipython",
    "version": 2
   },
   "file_extension": ".py",
   "mimetype": "text/x-python",
   "name": "python",
   "nbconvert_exporter": "python",
   "pygments_lexer": "ipython2",
   "version": "2.7.13"
  }
 },
 "nbformat": 4,
 "nbformat_minor": 2
}
