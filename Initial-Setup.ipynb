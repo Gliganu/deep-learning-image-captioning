{
 "cells": [
  {
   "cell_type": "code",
   "execution_count": 1,
   "metadata": {
    "collapsed": false
   },
   "outputs": [
    {
     "name": "stderr",
     "output_type": "stream",
     "text": [
      "Using Theano backend.\n",
      "Using gpu device 0: GeForce GTX 1080 (CNMeM is disabled, cuDNN 5110)\n",
      "/opt/conda/lib/python2.7/site-packages/theano/sandbox/cuda/__init__.py:600: UserWarning: Your cuDNN version is more recent than the one Theano officially supports. If you see any problems, try updating Theano or downgrading cuDNN to version 5.\n",
      "  warnings.warn(warn)\n"
     ]
    }
   ],
   "source": [
    "import preprocessing as preproc\n",
    "from utils import *\n",
    "import numpy as np\n",
    "import cPickle as pickle\n",
    "import pandas as pd\n",
    "import os"
   ]
  },
  {
   "cell_type": "code",
   "execution_count": 2,
   "metadata": {
    "collapsed": true
   },
   "outputs": [],
   "source": [
    "def get_all_captions(image_data_arr):\n",
    "    caption_bucket_list = preproc.get_captions_list(image_data_arr)\n",
    "    caption_bucket_length = len(caption_bucket_list[0])\n",
    "    \n",
    "    captions = np.stack(caption_bucket_list)\n",
    "    \n",
    "    print(\"caption_bucket_length = %d\"%caption_bucket_length)\n",
    "    print(\"captions.shape = %s\"%str(captions.shape))\n",
    "    \n",
    "    return (caption_bucket_list)\n",
    "\n",
    "def get_imgs_and_captions(base_images_path,base_annotation_path):\n",
    "    image_data_arr = preproc.get_image_data_arr(base_images_path,base_annotation_path)\n",
    "    \n",
    "    captions= get_all_captions(image_data_arr)\n",
    "    images = preproc.construct_images_concat_t(image_data_arr)\n",
    "    \n",
    "    print(\"images.shape = %s\"%str(images.shape))\n",
    "    return (images,captions)\n",
    "    "
   ]
  },
  {
   "cell_type": "code",
   "execution_count": 3,
   "metadata": {
    "collapsed": true
   },
   "outputs": [],
   "source": [
    "def get_common_words_mask(captions):\n",
    "    common_words_caption_mask = preproc.compute_common_words_caption_mask(captions,min_no_of_app = MIN_NO_OF_APP)\n",
    "    print(\"[COMMON WORDS] After = %d\"%np.sum(common_words_caption_mask))\n",
    "    return common_words_caption_mask\n",
    "\n",
    "def get_max_caption_length_mask(captions):\n",
    "    max_length_mask = preproc.get_short_caption_mask(captions, MAX_LENGTH)\n",
    "    print(\"[MAX LENGHT] After = %d\"%(np.sum(max_length_mask)))\n",
    "    return max_length_mask\n",
    "\n",
    "def construct_data_mask(captions):\n",
    "    \n",
    "    common_words_caption_mask = get_common_words_mask(captions)\n",
    "    max_length_mask = get_max_caption_length_mask(captions)\n",
    "    \n",
    "    combined_masks = [a and b for a, b in zip(common_words_caption_mask, max_length_mask)]\n",
    "    print(\"[COMBINED] After all = %d\"%(np.sum(combined_masks)))\n",
    "    return combined_masks\n",
    "\n",
    "def filter_data_by_mask(images_concat_t,captions,combined_masks):\n",
    "    captions_filtered = preproc.filter_array_by_mask(captions,combined_masks)\n",
    "    images_concat_t_filtered = preproc.filter_array_by_mask(images_concat_t,combined_masks)\n",
    "    \n",
    "    return (images_concat_t_filtered,captions_filtered)\n",
    "\n",
    "\n",
    "def write_to_folder(images_concat_t_filtered,captions_filtered,write_images_path,write_captions_path,index):\n",
    "    \n",
    "    print(\"Writing...\")\n",
    "    \n",
    "    preproc.save_array_with_folder_create(write_images_path,\"images_concat_\"+str(index)+\".bc\",images_concat_t_filtered)\n",
    "      \n",
    "    if not os.path.exists(write_captions_path):\n",
    "        os.makedirs(write_captions_path)\n",
    "    \n",
    "    pickle.dump(captions_filtered, open(write_captions_path + \"captions_batch_\"+str(index)+\".p\", \"wb\"))"
   ]
  },
  {
   "cell_type": "markdown",
   "metadata": {},
   "source": [
    "# Run one for train / val folder"
   ]
  },
  {
   "cell_type": "code",
   "execution_count": null,
   "metadata": {
    "collapsed": false
   },
   "outputs": [],
   "source": [
    "base_images_path = train_images_path\n",
    "base_annotation_path = train_annotation_path\n",
    "current_folder = train_folder\n",
    "\n",
    "# base_images_path = val_images_path\n",
    "# base_annotation_path = val_annotation_path\n",
    "# current_folder = val_folder\n",
    "\n",
    "MIN_NO_OF_APP = 10\n",
    "MAX_LENGTH = 15\n",
    "\n",
    "base_path = data_path+\"app-10-length-15/\"\n",
    "write_path = base_path + current_folder\n",
    "write_images_path = write_path + images_concat_folder\n",
    "write_captions_path = write_path + captions_folder"
   ]
  },
  {
   "cell_type": "markdown",
   "metadata": {},
   "source": [
    "## Build data"
   ]
  },
  {
   "cell_type": "code",
   "execution_count": null,
   "metadata": {
    "collapsed": false
   },
   "outputs": [
    {
     "name": "stderr",
     "output_type": "stream",
     "text": [
      "100%|██████████| 82783/82783 [19:00<00:00, 72.57it/s] \n",
      "100%|██████████| 5/5 [00:00<00:00,  7.13it/s]\n"
     ]
    },
    {
     "name": "stdout",
     "output_type": "stream",
     "text": [
      "caption_bucket_length = 82612\n",
      "captions.shape = (5, 82612)\n",
      "images.shape = (82612, 3, 224, 224)\n"
     ]
    }
   ],
   "source": [
    "(images,caption_bucket_list) = get_imgs_and_captions(base_images_path,base_annotation_path)"
   ]
  },
  {
   "cell_type": "markdown",
   "metadata": {},
   "source": [
    "# Filter Data"
   ]
  },
  {
   "cell_type": "code",
   "execution_count": null,
   "metadata": {
    "collapsed": false
   },
   "outputs": [],
   "source": [
    "for index,caption_bucket in enumerate(caption_bucket_list):\n",
    "    caption_bucket = np.asarray(caption_bucket)\n",
    "    print(\"------------Bucket %d------------\"%index)\n",
    "    \n",
    "    combined_masks = construct_data_mask(caption_bucket)\n",
    "    \n",
    "    print(\"images.shape = %s\"%(str(images.shape)))\n",
    "    print(\"caption_bucket.shape = %s\"%(str(caption_bucket.shape)))\n",
    "    \n",
    "    (images_concat_t_filtered,caption_bucket_filtered) = filter_data_by_mask(images,\n",
    "                                                                             caption_bucket,\n",
    "                                                                             combined_masks)\n",
    "    \n",
    "    print(\"Images shape = %s\"%str(images_concat_t_filtered.shape))\n",
    "    print(\"Caption bucket shape = %s\"%str(caption_bucket_filtered.shape))\n",
    "    \n",
    "    write_to_folder(images_concat_t_filtered,caption_bucket_filtered,write_images_path,write_captions_path,index)"
   ]
  },
  {
   "cell_type": "markdown",
   "metadata": {
    "collapsed": true
   },
   "source": [
    "# Build General Purpose Data Structures ( just once )"
   ]
  },
  {
   "cell_type": "code",
   "execution_count": null,
   "metadata": {
    "collapsed": true
   },
   "outputs": [],
   "source": [
    "train_path = base_path + train_folder\n",
    "val_path = base_path + val_folder\n",
    "\n",
    "all_raw_captions = []"
   ]
  },
  {
   "cell_type": "code",
   "execution_count": null,
   "metadata": {
    "collapsed": false
   },
   "outputs": [],
   "source": [
    "for index in range(5):\n",
    "    train_raw_captions = preproc.get_captions_from_batch(train_path + captions_folder, batch_nr = index)\n",
    "    val_raw_captions = preproc.get_captions_from_batch(val_path  + captions_folder, batch_nr = index)\n",
    "    \n",
    "    print(\"train_raw_captions.shape = %s\"%(str(train_raw_captions.shape)))\n",
    "    print(\"val_raw_captions.shape = %s\"%(str(val_raw_captions.shape)))\n",
    "    \n",
    "    all_raw_captions += list(train_raw_captions) + list(val_raw_captions)\n",
    "    "
   ]
  },
  {
   "cell_type": "code",
   "execution_count": null,
   "metadata": {
    "collapsed": false
   },
   "outputs": [],
   "source": [
    "print(\"len(all_raw_captions) = %d\"%(len(all_raw_captions)))"
   ]
  },
  {
   "cell_type": "code",
   "execution_count": null,
   "metadata": {
    "collapsed": false
   },
   "outputs": [],
   "source": [
    "unique_words = preproc.get_unique_words(all_raw_captions)\n",
    "(word2index, index2word) = preproc.get_index_word_dicts(unique_words)\n",
    "print(len(unique_words))"
   ]
  },
  {
   "cell_type": "code",
   "execution_count": null,
   "metadata": {
    "collapsed": false
   },
   "outputs": [],
   "source": [
    "if not os.path.exists(base_path+general_datastruct_folder):\n",
    "    os.makedirs(base_path+general_datastruct_folder)\n",
    "\n",
    "preproc.save_obj(unique_words,base_path+general_datastruct_folder+\"unique_words\")\n",
    "preproc.save_obj(word2index,base_path+general_datastruct_folder+\"word2index\")\n",
    "preproc.save_obj(index2word,base_path+general_datastruct_folder+\"index2word\")"
   ]
  },
  {
   "cell_type": "code",
   "execution_count": null,
   "metadata": {
    "collapsed": true
   },
   "outputs": [],
   "source": []
  },
  {
   "cell_type": "code",
   "execution_count": null,
   "metadata": {
    "collapsed": true
   },
   "outputs": [],
   "source": []
  },
  {
   "cell_type": "code",
   "execution_count": null,
   "metadata": {
    "collapsed": true
   },
   "outputs": [],
   "source": []
  },
  {
   "cell_type": "code",
   "execution_count": null,
   "metadata": {
    "collapsed": true
   },
   "outputs": [],
   "source": []
  },
  {
   "cell_type": "code",
   "execution_count": null,
   "metadata": {
    "collapsed": true
   },
   "outputs": [],
   "source": []
  },
  {
   "cell_type": "code",
   "execution_count": null,
   "metadata": {
    "collapsed": true
   },
   "outputs": [],
   "source": []
  },
  {
   "cell_type": "code",
   "execution_count": null,
   "metadata": {
    "collapsed": true
   },
   "outputs": [],
   "source": []
  }
 ],
 "metadata": {
  "kernelspec": {
   "display_name": "Python 2",
   "language": "python",
   "name": "python2"
  },
  "language_info": {
   "codemirror_mode": {
    "name": "ipython",
    "version": 2
   },
   "file_extension": ".py",
   "mimetype": "text/x-python",
   "name": "python",
   "nbconvert_exporter": "python",
   "pygments_lexer": "ipython2",
   "version": "2.7.13"
  }
 },
 "nbformat": 4,
 "nbformat_minor": 2
}
