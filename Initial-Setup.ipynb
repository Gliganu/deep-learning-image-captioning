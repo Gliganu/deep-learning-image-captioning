{
 "cells": [
  {
   "cell_type": "code",
   "execution_count": 1,
   "metadata": {
    "collapsed": false
   },
   "outputs": [
    {
     "name": "stderr",
     "output_type": "stream",
     "text": [
      "Using Theano backend.\n",
      "Using gpu device 0: GeForce GTX 1080 (CNMeM is disabled, cuDNN 5110)\n",
      "/opt/conda/lib/python2.7/site-packages/theano/sandbox/cuda/__init__.py:600: UserWarning: Your cuDNN version is more recent than the one Theano officially supports. If you see any problems, try updating Theano or downgrading cuDNN to version 5.\n",
      "  warnings.warn(warn)\n"
     ]
    }
   ],
   "source": [
    "from keras.models import Sequential\n",
    "from keras.layers.core import Dense, Dropout, Activation, Flatten\n",
    "from keras.layers.convolutional import Convolution2D, MaxPooling2D, ZeroPadding2D\n",
    "from keras.optimizers import SGD, Adadelta, Adagrad\n",
    "from keras.utils import np_utils, generic_utils\n",
    "from keras.layers import Embedding,GRU,TimeDistributed,RepeatVector,Merge,BatchNormalization\n",
    "from keras.preprocessing import sequence\n",
    "\n",
    "import numpy as np\n",
    "from vgg16 import Vgg16\n",
    "\n",
    "from os import listdir\n",
    "from os.path import isfile, join\n",
    "\n",
    "import matplotlib.pyplot as plt\n",
    "import matplotlib.image as mpimg\n",
    "\n",
    "import PIL.Image\n",
    "\n",
    "import json\n",
    "from tqdm import tqdm\n",
    "\n",
    "from keras.optimizers import SGD, RMSprop, Adam\n",
    "\n",
    "from utils import *\n",
    "import cPickle as pickle\n",
    "from matplotlib import pyplot as plt\n",
    "\n",
    "from itertools import compress\n",
    "\n",
    "import shutil\n",
    "import string\n",
    "\n",
    "import collections\n",
    "import nltk\n",
    "from nltk.stem.wordnet import WordNetLemmatizer\n",
    "from nltk.corpus import stopwords\n",
    "\n",
    "import re\n",
    "from numpy.random import random, permutation, randn, normal \n",
    "\n",
    "import os\n",
    "import preprocessing as preproc\n"
   ]
  },
  {
   "cell_type": "code",
   "execution_count": 16,
   "metadata": {
    "collapsed": true
   },
   "outputs": [],
   "source": [
    "save_path = \"/home/docker/fastai-courses/deeplearning1/nbs/persistent/coco/\"\n",
    "\n",
    "images_path = save_path+\"raw_images/train2014\"\n",
    "annotation_path = save_path +\"raw_annotations/captions_train2014.json\"\n",
    "\n",
    "train_path = save_path + \"train/\"\n",
    "test_path = save_path + \"test/\"\n",
    "\n",
    "images_concat_folder = \"images_concat/\"\n",
    "captions_folder = \"captions/\"\n",
    "\n",
    "# image_data_arr_path = save_path+\"imageDataArr/\"\n",
    "# images_concat_t_path = save_path+\"imagesConcatT/\"\n",
    "# captions_path = save_path+\"captions/\"\n",
    "# temp_save_path = save_path+\"temp/\"\n",
    "# model_path = save_path+\"models/\"\n",
    "# images_vgg_features_path = save_path + \"images_vgg_features/\"\n",
    "\n",
    "\n",
    "# images_vgg_4096_folder = \"images_vgg_4096/\"\n",
    "\n",
    "# indexed_captions_folder = \"indexed-captions/\"\n",
    "# indexed_future_words_folder = \"indexed-future-words/\"\n",
    "# glove_folder = \"glove/\"\n",
    "\n",
    "# misc_folder = \"misc/\"\n",
    "\n",
    "# batch_folder = \"batches/\""
   ]
  },
  {
   "cell_type": "markdown",
   "metadata": {},
   "source": [
    "# Build Data - Data structure"
   ]
  },
  {
   "cell_type": "code",
   "execution_count": 6,
   "metadata": {
    "collapsed": true
   },
   "outputs": [],
   "source": [
    "TEST_SIZE = 1000"
   ]
  },
  {
   "cell_type": "code",
   "execution_count": 7,
   "metadata": {
    "collapsed": false
   },
   "outputs": [
    {
     "name": "stderr",
     "output_type": "stream",
     "text": [
      "100%|██████████| 82783/82783 [13:54<00:00, 99.24it/s] \n"
     ]
    },
    {
     "name": "stdout",
     "output_type": "stream",
     "text": [
      "Train: 81612 Test 1000\n"
     ]
    }
   ],
   "source": [
    "image_data_arr = preproc.get_image_data_arr(images_path,annotation_path)\n",
    "(train_image_data_arr,test_image_data_arr) = preproc.get_train_test_data(image_data_arr,TEST_SIZE)\n",
    "print(\"Train: %d Test %d\"%(len(train_image_data_arr),len(test_image_data_arr)))\n",
    " "
   ]
  },
  {
   "cell_type": "markdown",
   "metadata": {},
   "source": [
    "# Build Data - Images"
   ]
  },
  {
   "cell_type": "code",
   "execution_count": 8,
   "metadata": {
    "collapsed": false
   },
   "outputs": [
    {
     "name": "stdout",
     "output_type": "stream",
     "text": [
      "(81612, 3, 224, 224)\n",
      "(1000, 3, 224, 224)\n"
     ]
    }
   ],
   "source": [
    "train_images_concat_t = preproc.construct_images_concat_t(train_image_data_arr)\n",
    "test_images_concat_t = preproc.construct_images_concat_t(test_image_data_arr)\n",
    "\n",
    "print(train_images_concat_t.shape)\n",
    "print(test_images_concat_t.shape)"
   ]
  },
  {
   "cell_type": "code",
   "execution_count": 14,
   "metadata": {
    "collapsed": false
   },
   "outputs": [],
   "source": [
    "save_array(train_path + images_concat_folder+ 'images_concat.bc', train_images_concat_t)\n",
    "save_array(test_path + images_concat_folder+ 'images_concat.bc', test_images_concat_t)"
   ]
  },
  {
   "cell_type": "markdown",
   "metadata": {},
   "source": [
    "# Build Data - Captions"
   ]
  },
  {
   "cell_type": "code",
   "execution_count": 18,
   "metadata": {
    "collapsed": false
   },
   "outputs": [
    {
     "name": "stderr",
     "output_type": "stream",
     "text": [
      "100%|██████████| 5/5 [00:03<00:00,  1.71it/s]\n",
      "100%|██████████| 5/5 [00:00<00:00, 241.30it/s]\n"
     ]
    }
   ],
   "source": [
    "preproc.write_captions_to_disk(train_path + captions_folder, train_image_data_arr)\n",
    "preproc.write_captions_to_disk(test_path + captions_folder, test_image_data_arr)"
   ]
  },
  {
   "cell_type": "code",
   "execution_count": null,
   "metadata": {
    "collapsed": true
   },
   "outputs": [],
   "source": []
  }
 ],
 "metadata": {
  "kernelspec": {
   "display_name": "Python 2",
   "language": "python",
   "name": "python2"
  },
  "language_info": {
   "codemirror_mode": {
    "name": "ipython",
    "version": 2
   },
   "file_extension": ".py",
   "mimetype": "text/x-python",
   "name": "python",
   "nbconvert_exporter": "python",
   "pygments_lexer": "ipython2",
   "version": "2.7.13"
  }
 },
 "nbformat": 4,
 "nbformat_minor": 2
}
