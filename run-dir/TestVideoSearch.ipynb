{
 "cells": [
  {
   "cell_type": "code",
   "execution_count": 2,
   "metadata": {
    "collapsed": false
   },
   "outputs": [
    {
     "name": "stderr",
     "output_type": "stream",
     "text": [
      "Using Theano backend.\n",
      "Using gpu device 0: GeForce GTX 1080 (CNMeM is disabled, cuDNN 5110)\n",
      "/opt/conda/lib/python2.7/site-packages/theano/sandbox/cuda/__init__.py:600: UserWarning: Your cuDNN version is more recent than the one Theano officially supports. If you see any problems, try updating Theano or downgrading cuDNN to version 5.\n",
      "  warnings.warn(warn)\n"
     ]
    }
   ],
   "source": [
    "import sys\n",
    "sys.path.append(\"../\")\n",
    "\n",
    "from keras.models import Sequential,Model\n",
    "from keras.layers.core import Dense, Dropout, Activation, Flatten\n",
    "from keras.layers import Embedding,GRU,TimeDistributed,RepeatVector,Merge,BatchNormalization,Input\n",
    "from keras.layers.convolutional import Convolution2D, MaxPooling2D, ZeroPadding2D\n",
    "from keras.layers import Embedding,LSTM,GRU,TimeDistributed,RepeatVector,Merge,Input,merge,UpSampling2D\n",
    "from keras.preprocessing import sequence\n",
    "from keras import callbacks\n",
    "from keras.optimizers import SGD, RMSprop, Adam\n",
    "\n",
    "import numpy as np\n",
    "from vgg16 import Vgg16\n",
    "import matplotlib.pyplot as plt\n",
    "import PIL.Image\n",
    "\n",
    "from tqdm import tqdm\n",
    "\n",
    "from utils import *\n",
    "\n",
    "import cPickle as pickle\n",
    "import string\n",
    "\n",
    "import collections\n",
    "import nltk\n",
    "from nltk.stem.wordnet import WordNetLemmatizer\n",
    "from nltk.corpus import stopwords\n",
    "\n",
    "import re\n",
    "from numpy.random import random, permutation, randn, normal \n",
    "\n",
    "import os\n",
    "\n",
    "import preprocessing as preproc\n",
    "\n",
    "import matplotlib.pyplot as plt\n",
    "from PIL import Image\n",
    "import numpy as np\n",
    "from matplotlib import animation\n",
    "from IPython.display import display, HTML\n",
    "\n",
    "import pandas as pd\n",
    "import languageUtils\n",
    "import nnModel\n",
    "import nnModel_no_feedback\n",
    "import plotter\n",
    "import videoExplorer as vidExplorer\n",
    "import imageio"
   ]
  },
  {
   "cell_type": "code",
   "execution_count": 3,
   "metadata": {
    "collapsed": true
   },
   "outputs": [],
   "source": [
    "def get_index_arr(video_frames,found_indexes):\n",
    "    index_arr = np.zeros(len(video_frames))\n",
    "    for found_index in found_indexes:\n",
    "        index_arr[found_index] = 1\n",
    "        \n",
    "    return index_arr\n",
    "\n",
    "def print_frame_location(video_search_word,found_indexes):\n",
    "    print(\"Word = \\\"%s\\\" \"%video_search_word)\n",
    "    \n",
    "    for index in found_indexes:\n",
    "        print(\"\\t Frame %d\"%index)"
   ]
  },
  {
   "cell_type": "markdown",
   "metadata": {},
   "source": [
    "## Model"
   ]
  },
  {
   "cell_type": "code",
   "execution_count": 4,
   "metadata": {
    "collapsed": false
   },
   "outputs": [
    {
     "name": "stdout",
     "output_type": "stream",
     "text": [
      "Found = 840\n",
      "Not found = 8\n"
     ]
    }
   ],
   "source": [
    "(unique_words, word2index, index2word) = languageUtils.load_language_data_structures(\"./\" + general_datastruct_folder)\n",
    "\n",
    "EMB_SIZE = 300\n",
    "VOCAB_SIZE = len(unique_words)\n",
    "MAX_CAPTION_LEN = 15 \n",
    "\n",
    "\n",
    "emb = nnModel.get_embeddings(index2word, VOCAB_SIZE, EMB_SIZE)\n",
    "model = nnModel.build_model(emb,MAX_CAPTION_LEN, VOCAB_SIZE, EMB_SIZE)"
   ]
  },
  {
   "cell_type": "code",
   "execution_count": 5,
   "metadata": {
    "collapsed": true
   },
   "outputs": [],
   "source": [
    "model.load_weights('./app_100_length_15_past_word_20_epoch_300d_gru_2x1048_big.h5')"
   ]
  },
  {
   "cell_type": "markdown",
   "metadata": {},
   "source": [
    "## Video"
   ]
  },
  {
   "cell_type": "code",
   "execution_count": 39,
   "metadata": {
    "collapsed": false
   },
   "outputs": [
    {
     "name": "stderr",
     "output_type": "stream",
     "text": [
      "/opt/conda/lib/python2.7/site-packages/imageio/core/format.py:392: UserWarning: Could not read last frame of /home/docker/fastai-courses/deeplearning1/nbs/persistent/coco/video/baseball.mp4.\n",
      "  warn('Could not read last frame of %s.' % uri)\n"
     ]
    }
   ],
   "source": [
    "video_path = \"/home/docker/fastai-courses/deeplearning1/nbs/persistent/coco/video/baseball.mp4\"\n",
    "video_frames = vidExplorer.get_mp4_vid_frames(video_path)"
   ]
  },
  {
   "cell_type": "code",
   "execution_count": 40,
   "metadata": {
    "collapsed": false
   },
   "outputs": [
    {
     "data": {
      "text/plain": [
       "(519, 3, 224, 224)"
      ]
     },
     "execution_count": 40,
     "metadata": {},
     "output_type": "execute_result"
    }
   ],
   "source": [
    "video_frames.shape"
   ]
  },
  {
   "cell_type": "code",
   "execution_count": 41,
   "metadata": {
    "collapsed": false
   },
   "outputs": [
    {
     "name": "stderr",
     "output_type": "stream",
     "text": [
      "100%|██████████| 519/519 [00:48<00:00, 11.19it/s]\n"
     ]
    }
   ],
   "source": [
    "window_start = 0\n",
    "\n",
    "(raw_video_frames,raw_video_captions) = nnModel.make_prediction_on_dataset(video_frames,model,\n",
    "                                                                       word2index,index2word,MAX_CAPTION_LEN)"
   ]
  },
  {
   "cell_type": "code",
   "execution_count": 64,
   "metadata": {
    "collapsed": true
   },
   "outputs": [],
   "source": [
    "video_search_word = \"park\"\n",
    "(found_images,found_captions,found_indexes) = vidExplorer.search_video_by(video_search_word,raw_video_frames,raw_video_captions)"
   ]
  },
  {
   "cell_type": "code",
   "execution_count": 67,
   "metadata": {
    "collapsed": false,
    "scrolled": true
   },
   "outputs": [
    {
     "data": {
      "text/plain": [
       "[90,\n",
       " 95,\n",
       " 96,\n",
       " 97,\n",
       " 98,\n",
       " 99,\n",
       " 100,\n",
       " 101,\n",
       " 102,\n",
       " 103,\n",
       " 104,\n",
       " 108,\n",
       " 109,\n",
       " 111,\n",
       " 112,\n",
       " 113,\n",
       " 114,\n",
       " 115,\n",
       " 116,\n",
       " 117,\n",
       " 118,\n",
       " 119,\n",
       " 120,\n",
       " 121,\n",
       " 122,\n",
       " 123,\n",
       " 124,\n",
       " 125,\n",
       " 126,\n",
       " 127,\n",
       " 128,\n",
       " 129,\n",
       " 130,\n",
       " 131,\n",
       " 132,\n",
       " 133,\n",
       " 134,\n",
       " 135,\n",
       " 185,\n",
       " 186,\n",
       " 187,\n",
       " 188,\n",
       " 189,\n",
       " 190,\n",
       " 191,\n",
       " 192,\n",
       " 193,\n",
       " 194,\n",
       " 195,\n",
       " 196,\n",
       " 197,\n",
       " 198,\n",
       " 199,\n",
       " 200,\n",
       " 201,\n",
       " 202,\n",
       " 203,\n",
       " 204,\n",
       " 206,\n",
       " 207,\n",
       " 289,\n",
       " 290,\n",
       " 291,\n",
       " 292,\n",
       " 293,\n",
       " 294,\n",
       " 296,\n",
       " 297,\n",
       " 298,\n",
       " 316,\n",
       " 317,\n",
       " 319,\n",
       " 321,\n",
       " 322,\n",
       " 323,\n",
       " 324,\n",
       " 325,\n",
       " 332,\n",
       " 384,\n",
       " 388,\n",
       " 389,\n",
       " 390,\n",
       " 391,\n",
       " 392,\n",
       " 393,\n",
       " 394,\n",
       " 395,\n",
       " 396,\n",
       " 397,\n",
       " 398,\n",
       " 399,\n",
       " 400,\n",
       " 401,\n",
       " 402,\n",
       " 403,\n",
       " 404,\n",
       " 405,\n",
       " 406,\n",
       " 408,\n",
       " 409,\n",
       " 411,\n",
       " 412,\n",
       " 413,\n",
       " 414,\n",
       " 416,\n",
       " 417,\n",
       " 418,\n",
       " 419,\n",
       " 420,\n",
       " 421,\n",
       " 423,\n",
       " 424,\n",
       " 425,\n",
       " 426,\n",
       " 428,\n",
       " 429,\n",
       " 430,\n",
       " 431,\n",
       " 432,\n",
       " 433,\n",
       " 434,\n",
       " 435,\n",
       " 436,\n",
       " 437,\n",
       " 438,\n",
       " 439,\n",
       " 440,\n",
       " 441,\n",
       " 442,\n",
       " 443,\n",
       " 444,\n",
       " 445,\n",
       " 446,\n",
       " 447,\n",
       " 448,\n",
       " 449,\n",
       " 450,\n",
       " 451,\n",
       " 452,\n",
       " 453,\n",
       " 454,\n",
       " 455,\n",
       " 456,\n",
       " 457,\n",
       " 458,\n",
       " 459,\n",
       " 460,\n",
       " 461,\n",
       " 462,\n",
       " 463,\n",
       " 464,\n",
       " 465,\n",
       " 466,\n",
       " 467,\n",
       " 468,\n",
       " 469,\n",
       " 470,\n",
       " 471,\n",
       " 472,\n",
       " 473,\n",
       " 474,\n",
       " 475,\n",
       " 476,\n",
       " 477,\n",
       " 478,\n",
       " 479,\n",
       " 480,\n",
       " 481,\n",
       " 482,\n",
       " 483,\n",
       " 484,\n",
       " 485,\n",
       " 486,\n",
       " 487,\n",
       " 488,\n",
       " 489,\n",
       " 490,\n",
       " 491,\n",
       " 492,\n",
       " 493,\n",
       " 494,\n",
       " 495,\n",
       " 496,\n",
       " 497,\n",
       " 498,\n",
       " 499,\n",
       " 500,\n",
       " 501,\n",
       " 502,\n",
       " 503,\n",
       " 504,\n",
       " 505,\n",
       " 506,\n",
       " 507,\n",
       " 508,\n",
       " 509,\n",
       " 510,\n",
       " 511,\n",
       " 512,\n",
       " 513,\n",
       " 514,\n",
       " 515,\n",
       " 516,\n",
       " 517,\n",
       " 518]"
      ]
     },
     "execution_count": 67,
     "metadata": {},
     "output_type": "execute_result"
    }
   ],
   "source": [
    "found_indexes"
   ]
  },
  {
   "cell_type": "code",
   "execution_count": 68,
   "metadata": {
    "collapsed": false
   },
   "outputs": [
    {
     "data": {
      "text/plain": [
       "21.69"
      ]
     },
     "execution_count": 68,
     "metadata": {},
     "output_type": "execute_result"
    }
   ],
   "source": [
    "vid = imageio.get_reader(video_path,  'ffmpeg')\n",
    "video_duration =  float(vid._get_meta_data(1)[\"duration\"])\n",
    "video_duration"
   ]
  },
  {
   "cell_type": "code",
   "execution_count": 69,
   "metadata": {
    "collapsed": false
   },
   "outputs": [],
   "source": [
    "duration_per_frame = video_duration / video_frames.shape[0]"
   ]
  },
  {
   "cell_type": "code",
   "execution_count": 70,
   "metadata": {
    "collapsed": false,
    "scrolled": true
   },
   "outputs": [
    {
     "data": {
      "text/plain": [
       "[3.761,\n",
       " 3.97,\n",
       " 4.012,\n",
       " 4.054,\n",
       " 4.096,\n",
       " 4.137,\n",
       " 4.179,\n",
       " 4.221,\n",
       " 4.263,\n",
       " 4.305,\n",
       " 4.346,\n",
       " 4.514,\n",
       " 4.555,\n",
       " 4.639,\n",
       " 4.681,\n",
       " 4.722,\n",
       " 4.764,\n",
       " 4.806,\n",
       " 4.848,\n",
       " 4.89,\n",
       " 4.931,\n",
       " 4.973,\n",
       " 5.015,\n",
       " 5.057,\n",
       " 5.099,\n",
       " 5.14,\n",
       " 5.182,\n",
       " 5.224,\n",
       " 5.266,\n",
       " 5.308,\n",
       " 5.349,\n",
       " 5.391,\n",
       " 5.433,\n",
       " 5.475,\n",
       " 5.517,\n",
       " 5.558,\n",
       " 5.6,\n",
       " 5.642,\n",
       " 7.732,\n",
       " 7.773,\n",
       " 7.815,\n",
       " 7.857,\n",
       " 7.899,\n",
       " 7.94,\n",
       " 7.982,\n",
       " 8.024,\n",
       " 8.066,\n",
       " 8.108,\n",
       " 8.149,\n",
       " 8.191,\n",
       " 8.233,\n",
       " 8.275,\n",
       " 8.317,\n",
       " 8.358,\n",
       " 8.4,\n",
       " 8.442,\n",
       " 8.484,\n",
       " 8.526,\n",
       " 8.609,\n",
       " 8.651,\n",
       " 12.078,\n",
       " 12.12,\n",
       " 12.161,\n",
       " 12.203,\n",
       " 12.245,\n",
       " 12.287,\n",
       " 12.37,\n",
       " 12.412,\n",
       " 12.454,\n",
       " 13.206,\n",
       " 13.248,\n",
       " 13.332,\n",
       " 13.415,\n",
       " 13.457,\n",
       " 13.499,\n",
       " 13.541,\n",
       " 13.582,\n",
       " 13.875,\n",
       " 16.048,\n",
       " 16.215,\n",
       " 16.257,\n",
       " 16.299,\n",
       " 16.341,\n",
       " 16.382,\n",
       " 16.424,\n",
       " 16.466,\n",
       " 16.508,\n",
       " 16.55,\n",
       " 16.591,\n",
       " 16.633,\n",
       " 16.675,\n",
       " 16.717,\n",
       " 16.759,\n",
       " 16.8,\n",
       " 16.842,\n",
       " 16.884,\n",
       " 16.926,\n",
       " 16.968,\n",
       " 17.051,\n",
       " 17.093,\n",
       " 17.176,\n",
       " 17.218,\n",
       " 17.26,\n",
       " 17.302,\n",
       " 17.385,\n",
       " 17.427,\n",
       " 17.469,\n",
       " 17.511,\n",
       " 17.553,\n",
       " 17.594,\n",
       " 17.678,\n",
       " 17.72,\n",
       " 17.762,\n",
       " 17.803,\n",
       " 17.887,\n",
       " 17.929,\n",
       " 17.971,\n",
       " 18.012,\n",
       " 18.054,\n",
       " 18.096,\n",
       " 18.138,\n",
       " 18.179,\n",
       " 18.221,\n",
       " 18.263,\n",
       " 18.305,\n",
       " 18.347,\n",
       " 18.388,\n",
       " 18.43,\n",
       " 18.472,\n",
       " 18.514,\n",
       " 18.556,\n",
       " 18.597,\n",
       " 18.639,\n",
       " 18.681,\n",
       " 18.723,\n",
       " 18.765,\n",
       " 18.806,\n",
       " 18.848,\n",
       " 18.89,\n",
       " 18.932,\n",
       " 18.974,\n",
       " 19.015,\n",
       " 19.057,\n",
       " 19.099,\n",
       " 19.141,\n",
       " 19.182,\n",
       " 19.224,\n",
       " 19.266,\n",
       " 19.308,\n",
       " 19.35,\n",
       " 19.391,\n",
       " 19.433,\n",
       " 19.475,\n",
       " 19.517,\n",
       " 19.559,\n",
       " 19.6,\n",
       " 19.642,\n",
       " 19.684,\n",
       " 19.726,\n",
       " 19.768,\n",
       " 19.809,\n",
       " 19.851,\n",
       " 19.893,\n",
       " 19.935,\n",
       " 19.977,\n",
       " 20.018,\n",
       " 20.06,\n",
       " 20.102,\n",
       " 20.144,\n",
       " 20.185,\n",
       " 20.227,\n",
       " 20.269,\n",
       " 20.311,\n",
       " 20.353,\n",
       " 20.394,\n",
       " 20.436,\n",
       " 20.478,\n",
       " 20.52,\n",
       " 20.562,\n",
       " 20.603,\n",
       " 20.645,\n",
       " 20.687,\n",
       " 20.729,\n",
       " 20.771,\n",
       " 20.812,\n",
       " 20.854,\n",
       " 20.896,\n",
       " 20.938,\n",
       " 20.98,\n",
       " 21.021,\n",
       " 21.063,\n",
       " 21.105,\n",
       " 21.147,\n",
       " 21.188,\n",
       " 21.23,\n",
       " 21.272,\n",
       " 21.314,\n",
       " 21.356,\n",
       " 21.397,\n",
       " 21.439,\n",
       " 21.481,\n",
       " 21.523,\n",
       " 21.565,\n",
       " 21.606,\n",
       " 21.648]"
      ]
     },
     "execution_count": 70,
     "metadata": {},
     "output_type": "execute_result"
    }
   ],
   "source": [
    "found_times = [round(index * duration_per_frame,3) for index in  found_indexes]\n",
    "found_times"
   ]
  },
  {
   "cell_type": "code",
   "execution_count": 71,
   "metadata": {
    "collapsed": false
   },
   "outputs": [
    {
     "data": {
      "text/plain": [
       "205"
      ]
     },
     "execution_count": 71,
     "metadata": {},
     "output_type": "execute_result"
    }
   ],
   "source": [
    "nr_found_times = len(found_times)\n",
    "nr_found_times"
   ]
  },
  {
   "cell_type": "code",
   "execution_count": 72,
   "metadata": {
    "collapsed": false
   },
   "outputs": [
    {
     "name": "stdout",
     "output_type": "stream",
     "text": [
      "Start: 3.761000 ---> End 5.642000\n",
      "Start: 7.732000 ---> End 8.651000\n",
      "Start: 12.078000 ---> End 13.875000\n",
      "Start: 16.048000 ---> End 21.606000\n"
     ]
    }
   ],
   "source": [
    "index = 0\n",
    "\n",
    "\n",
    "f = open('./video-test.txt', 'w')\n",
    "\n",
    "\n",
    "while (index < nr_found_times - 1):\n",
    "    \n",
    "\n",
    "    start_time = found_times[index]\n",
    "    \n",
    "    sequence_end_found = False\n",
    "    \n",
    "    new_index = index\n",
    "    \n",
    "    while(not(sequence_end_found) and new_index < nr_found_times - 1):\n",
    "                \n",
    "        current_found_time = found_times[new_index]\n",
    "        next_found_time = found_times[new_index+1]\n",
    "        \n",
    "        if(next_found_time - current_found_time > 1.0 ): #greater than 1s\n",
    "            sequence_end_found = True\n",
    "#             print(\"Start: %f ---> End %f\" % (start_time,current_found_time))\n",
    "            f.write(\"Start: %f ---> End %f\" % (start_time,current_found_time))\n",
    "            \n",
    "        else: \n",
    "            new_index += 1\n",
    "            \n",
    "    \n",
    "    index = new_index + 1 \n",
    "    \n",
    "    \n",
    "if(not(sequence_end_found)):\n",
    "    f.write(\"Start: %f ---> End %f\" % (start_time,current_found_time))\n",
    "    print(\"Start: %f ---> End %f\" % (start_time,current_found_time))\n",
    "    \n",
    "            \n",
    "        \n",
    "f.close()\n"
   ]
  },
  {
   "cell_type": "code",
   "execution_count": null,
   "metadata": {
    "collapsed": true
   },
   "outputs": [],
   "source": []
  }
 ],
 "metadata": {
  "kernelspec": {
   "display_name": "Python 2",
   "language": "python",
   "name": "python2"
  },
  "language_info": {
   "codemirror_mode": {
    "name": "ipython",
    "version": 2
   },
   "file_extension": ".py",
   "mimetype": "text/x-python",
   "name": "python",
   "nbconvert_exporter": "python",
   "pygments_lexer": "ipython2",
   "version": "2.7.13"
  }
 },
 "nbformat": 4,
 "nbformat_minor": 2
}
