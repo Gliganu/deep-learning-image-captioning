{
 "cells": [
  {
   "cell_type": "code",
   "execution_count": 1,
   "metadata": {
    "collapsed": false
   },
   "outputs": [
    {
     "name": "stderr",
     "output_type": "stream",
     "text": [
      "Using Theano backend.\n",
      "Using gpu device 0: GeForce GTX 1080 (CNMeM is disabled, cuDNN 5110)\n",
      "/opt/conda/lib/python2.7/site-packages/theano/sandbox/cuda/__init__.py:600: UserWarning: Your cuDNN version is more recent than the one Theano officially supports. If you see any problems, try updating Theano or downgrading cuDNN to version 5.\n",
      "  warnings.warn(warn)\n"
     ]
    }
   ],
   "source": [
    "import numpy as np\n",
    "from keras.preprocessing import sequence\n",
    "from tqdm import tqdm\n",
    "import preprocessing as preproc\n",
    "from utils import *\n",
    "from collections import defaultdict\n",
    "import pandas as pd\n",
    "import matplotlib.pyplot as plt"
   ]
  },
  {
   "cell_type": "code",
   "execution_count": 2,
   "metadata": {
    "collapsed": false
   },
   "outputs": [],
   "source": [
    "base_path = app_10_length_15_data_path\n",
    "\n",
    "train_path = base_path + train_folder\n",
    "val_path = base_path + val_folder\n",
    "\n",
    "general_datastruct_path = base_path + general_datastruct_folder\n"
   ]
  },
  {
   "cell_type": "markdown",
   "metadata": {
    "collapsed": true
   },
   "source": [
    "# Average number of appearances for predicted words"
   ]
  },
  {
   "cell_type": "markdown",
   "metadata": {},
   "source": [
    "## Create word -> no.of.occurrences map"
   ]
  },
  {
   "cell_type": "code",
   "execution_count": 3,
   "metadata": {
    "collapsed": false
   },
   "outputs": [
    {
     "data": {
      "text/plain": [
       "52848"
      ]
     },
     "execution_count": 3,
     "metadata": {},
     "output_type": "execute_result"
    }
   ],
   "source": [
    "captions = preproc.get_captions_from_batch(train_path+\"captions/\",0)\n",
    "len(captions)"
   ]
  },
  {
   "cell_type": "code",
   "execution_count": 4,
   "metadata": {
    "collapsed": false
   },
   "outputs": [
    {
     "data": {
      "text/plain": [
       "3225"
      ]
     },
     "execution_count": 4,
     "metadata": {},
     "output_type": "execute_result"
    }
   ],
   "source": [
    "nr_unique_words = len(preproc.get_unique_words(captions))\n",
    "nr_unique_words"
   ]
  },
  {
   "cell_type": "code",
   "execution_count": 5,
   "metadata": {
    "collapsed": false
   },
   "outputs": [
    {
     "data": {
      "text/plain": [
       "3092"
      ]
     },
     "execution_count": 5,
     "metadata": {},
     "output_type": "execute_result"
    }
   ],
   "source": [
    "real_captions_2_app = preproc.most_common_words(captions,nr_unique_words)\n",
    "len(real_captions_2_app)"
   ]
  },
  {
   "cell_type": "code",
   "execution_count": 6,
   "metadata": {
    "collapsed": false
   },
   "outputs": [
    {
     "data": {
      "text/plain": [
       "[(u'wall,', 1),\n",
       " (u'caption', 1),\n",
       " (u'early', 1),\n",
       " (u'indicating', 1),\n",
       " (u'STANDING', 1),\n",
       " (u'theme', 1),\n",
       " (u'need', 1),\n",
       " (u'TENNIS', 1),\n",
       " (u'WALKING', 1),\n",
       " (u'toast,', 1)]"
      ]
     },
     "execution_count": 6,
     "metadata": {},
     "output_type": "execute_result"
    }
   ],
   "source": [
    "real_captions_2_app[-10:]"
   ]
  },
  {
   "cell_type": "code",
   "execution_count": 7,
   "metadata": {
    "collapsed": false
   },
   "outputs": [
    {
     "data": {
      "text/plain": [
       "[(u'man', 7026),\n",
       " (u'sitting', 6330),\n",
       " (u'standing', 5318),\n",
       " (u'next', 4603),\n",
       " (u'white', 3636),\n",
       " (u'people', 3533),\n",
       " (u'top', 3260),\n",
       " (u'woman', 3220),\n",
       " (u'holding', 3064),\n",
       " (u'table', 2611)]"
      ]
     },
     "execution_count": 7,
     "metadata": {},
     "output_type": "execute_result"
    }
   ],
   "source": [
    "real_captions_2_app[:10]"
   ]
  },
  {
   "cell_type": "markdown",
   "metadata": {},
   "source": [
    "## Predictions"
   ]
  },
  {
   "cell_type": "code",
   "execution_count": 8,
   "metadata": {
    "collapsed": false
   },
   "outputs": [
    {
     "data": {
      "text/plain": [
       "(1000,)"
      ]
     },
     "execution_count": 8,
     "metadata": {},
     "output_type": "execute_result"
    }
   ],
   "source": [
    "predictions = load_array(val_path+\"predictions/\"+\"app_10_length_15_past_word_30_epoch_300d_gru_2x1024_captions\")\n",
    "predictions.shape"
   ]
  },
  {
   "cell_type": "code",
   "execution_count": 9,
   "metadata": {
    "collapsed": false
   },
   "outputs": [],
   "source": [
    "predicted_captions_2_app = preproc.most_common_words(predictions,len(preproc.get_unique_words(predictions)))"
   ]
  },
  {
   "cell_type": "code",
   "execution_count": 10,
   "metadata": {
    "collapsed": false
   },
   "outputs": [
    {
     "data": {
      "text/plain": [
       "[(u'sitting', 196),\n",
       " (u'man', 195),\n",
       " (u'standing', 156),\n",
       " (u'top', 137),\n",
       " (u'next', 125),\n",
       " (u'riding', 107),\n",
       " (u'street', 106),\n",
       " (u'group', 106),\n",
       " (u'white', 103),\n",
       " (u'people', 91)]"
      ]
     },
     "execution_count": 10,
     "metadata": {},
     "output_type": "execute_result"
    }
   ],
   "source": [
    "predicted_captions_2_app[:10]"
   ]
  },
  {
   "cell_type": "markdown",
   "metadata": {},
   "source": [
    "## Nr app weighted sum average"
   ]
  },
  {
   "cell_type": "code",
   "execution_count": 14,
   "metadata": {
    "collapsed": false
   },
   "outputs": [],
   "source": [
    "real_captions_2_app_dict = dict(real_captions_2_app)\n",
    "predicted_captions_2_app_dict = dict(predicted_captions_2_app)\n",
    "\n",
    "nr_real_unique_words = len(real_captions_2_app_dict)\n",
    "nr_pred_unique_words = len(predicted_captions_2_app_dict)"
   ]
  },
  {
   "cell_type": "code",
   "execution_count": 15,
   "metadata": {
    "collapsed": false
   },
   "outputs": [
    {
     "name": "stdout",
     "output_type": "stream",
     "text": [
      "3092\n",
      "622\n"
     ]
    }
   ],
   "source": [
    "print(nr_real_unique_words)\n",
    "print(nr_pred_unique_words)"
   ]
  },
  {
   "cell_type": "code",
   "execution_count": 21,
   "metadata": {
    "collapsed": true
   },
   "outputs": [],
   "source": [
    "weighted_avg_sum = 0.0"
   ]
  },
  {
   "cell_type": "code",
   "execution_count": 22,
   "metadata": {
    "collapsed": false
   },
   "outputs": [],
   "source": [
    "for word,pred_nr_app in predicted_captions_2_app_dict.iteritems():\n",
    "    real_nr_app = real_captions_2_app_dict[word]\n",
    "    weighted_avg_sum += real_nr_app * pred_nr_app"
   ]
  },
  {
   "cell_type": "code",
   "execution_count": 23,
   "metadata": {
    "collapsed": false
   },
   "outputs": [
    {
     "data": {
      "text/plain": [
       "15209.503215434084"
      ]
     },
     "execution_count": 23,
     "metadata": {},
     "output_type": "execute_result"
    }
   ],
   "source": [
    "weighted_avg = weighted_avg_sum / nr_pred_unique_words\n",
    "weighted_avg"
   ]
  },
  {
   "cell_type": "markdown",
   "metadata": {},
   "source": [
    "## Stats"
   ]
  },
  {
   "cell_type": "code",
   "execution_count": 59,
   "metadata": {
    "collapsed": false
   },
   "outputs": [],
   "source": [
    "real_captions_2_app_df = pd.DataFrame(real_captions_2_app_dict.items(), columns=['word', 'real_count'])\n",
    "pred_captions_2_app_df = pd.DataFrame(predicted_captions_2_app_dict.items(), columns=['word', 'pred_count'])\n",
    "joined_df = pd.merge(real_captions_2_app_df, pred_captions_2_app_df, on='word', how='outer').fillna(0)"
   ]
  },
  {
   "cell_type": "code",
   "execution_count": 60,
   "metadata": {
    "collapsed": false
   },
   "outputs": [],
   "source": [
    "nr_real_words = len(real_captions_2_app_df)\n",
    "nr_pred_words = len(pred_captions_2_app_df)"
   ]
  },
  {
   "cell_type": "code",
   "execution_count": 61,
   "metadata": {
    "collapsed": false
   },
   "outputs": [
    {
     "data": {
      "text/html": [
       "<div>\n",
       "<table border=\"1\" class=\"dataframe\">\n",
       "  <thead>\n",
       "    <tr style=\"text-align: right;\">\n",
       "      <th></th>\n",
       "      <th>word</th>\n",
       "      <th>real_count</th>\n",
       "      <th>pred_count</th>\n",
       "    </tr>\n",
       "  </thead>\n",
       "  <tbody>\n",
       "    <tr>\n",
       "      <th>0</th>\n",
       "      <td>hats</td>\n",
       "      <td>26</td>\n",
       "      <td>0.0</td>\n",
       "    </tr>\n",
       "    <tr>\n",
       "      <th>1</th>\n",
       "      <td>yellow</td>\n",
       "      <td>801</td>\n",
       "      <td>11.0</td>\n",
       "    </tr>\n",
       "    <tr>\n",
       "      <th>2</th>\n",
       "      <td>four</td>\n",
       "      <td>137</td>\n",
       "      <td>2.0</td>\n",
       "    </tr>\n",
       "    <tr>\n",
       "      <th>3</th>\n",
       "      <td>woods</td>\n",
       "      <td>57</td>\n",
       "      <td>0.0</td>\n",
       "    </tr>\n",
       "    <tr>\n",
       "      <th>4</th>\n",
       "      <td>sleep</td>\n",
       "      <td>9</td>\n",
       "      <td>0.0</td>\n",
       "    </tr>\n",
       "    <tr>\n",
       "      <th>5</th>\n",
       "      <td>asian</td>\n",
       "      <td>9</td>\n",
       "      <td>0.0</td>\n",
       "    </tr>\n",
       "    <tr>\n",
       "      <th>6</th>\n",
       "      <td>ocean.</td>\n",
       "      <td>17</td>\n",
       "      <td>0.0</td>\n",
       "    </tr>\n",
       "    <tr>\n",
       "      <th>7</th>\n",
       "      <td>hanging</td>\n",
       "      <td>302</td>\n",
       "      <td>9.0</td>\n",
       "    </tr>\n",
       "    <tr>\n",
       "      <th>8</th>\n",
       "      <td>Skateboarder</td>\n",
       "      <td>11</td>\n",
       "      <td>0.0</td>\n",
       "    </tr>\n",
       "    <tr>\n",
       "      <th>9</th>\n",
       "      <td>trolley</td>\n",
       "      <td>28</td>\n",
       "      <td>0.0</td>\n",
       "    </tr>\n",
       "  </tbody>\n",
       "</table>\n",
       "</div>"
      ],
      "text/plain": [
       "           word  real_count  pred_count\n",
       "0          hats          26         0.0\n",
       "1        yellow         801        11.0\n",
       "2          four         137         2.0\n",
       "3         woods          57         0.0\n",
       "4         sleep           9         0.0\n",
       "5         asian           9         0.0\n",
       "6        ocean.          17         0.0\n",
       "7       hanging         302         9.0\n",
       "8  Skateboarder          11         0.0\n",
       "9       trolley          28         0.0"
      ]
     },
     "execution_count": 61,
     "metadata": {},
     "output_type": "execute_result"
    }
   ],
   "source": [
    "#joined_df.sort_values('real_count')[:10]\n",
    "joined_df[:10]"
   ]
  },
  {
   "cell_type": "markdown",
   "metadata": {},
   "source": [
    "## word count per pred limit bucket"
   ]
  },
  {
   "cell_type": "code",
   "execution_count": 65,
   "metadata": {
    "collapsed": true
   },
   "outputs": [],
   "source": [
    "def window(fseq, window_size=5):\n",
    "    for i in xrange(len(fseq) - window_size + 1):\n",
    "        yield fseq[i:i+window_size]\n"
   ]
  },
  {
   "cell_type": "code",
   "execution_count": 69,
   "metadata": {
    "collapsed": true
   },
   "outputs": [],
   "source": [
    "word_limits = [0,10,20,50,100,1000,10000]"
   ]
  },
  {
   "cell_type": "code",
   "execution_count": 70,
   "metadata": {
    "collapsed": false
   },
   "outputs": [
    {
     "name": "stdout",
     "output_type": "stream",
     "text": [
      "0 10 => 945\n",
      "10 20 => 681\n",
      "20 50 => 554\n",
      "50 100 => 279\n",
      "100 1000 => 400\n",
      "1000 10000 => 54\n"
     ]
    }
   ],
   "source": [
    "for min_2_max in list(window(word_limits,2)):\n",
    "    min_limit = min_2_max[0]\n",
    "    max_limit = min_2_max[1]\n",
    "    \n",
    "    nr_items  = len(joined_df[(joined_df['real_count'] > min_limit) & (joined_df['real_count'] < max_limit)])\n",
    "    \n",
    "    print(\"%d %d => %d\"%(min_limit,max_limit,nr_items))"
   ]
  },
  {
   "cell_type": "markdown",
   "metadata": {},
   "source": [
    "# For each limit_bucket, what percentage of real_words have  been used"
   ]
  },
  {
   "cell_type": "code",
   "execution_count": 71,
   "metadata": {
    "collapsed": false
   },
   "outputs": [],
   "source": [
    "limits = [0,10,20,50,100,1000,10000]"
   ]
  },
  {
   "cell_type": "code",
   "execution_count": 72,
   "metadata": {
    "collapsed": false
   },
   "outputs": [
    {
     "data": {
      "text/plain": [
       "622"
      ]
     },
     "execution_count": 72,
     "metadata": {},
     "output_type": "execute_result"
    }
   ],
   "source": [
    "nr_words = len(joined_df)\n",
    "\n",
    "nr_pred_words"
   ]
  },
  {
   "cell_type": "code",
   "execution_count": 75,
   "metadata": {
    "collapsed": false
   },
   "outputs": [
    {
     "name": "stdout",
     "output_type": "stream",
     "text": [
      "0 -> 10 --> 0.014815\n",
      "10 -> 20 --> 0.070485\n",
      "20 -> 50 --> 0.175090\n",
      "50 -> 100 --> 0.308244\n",
      "100 -> 1000 --> 0.767500\n",
      "1000 -> 10000 --> 0.981481\n"
     ]
    }
   ],
   "source": [
    "for min_2_max in list(window(limits,2)):\n",
    "    \n",
    "    min_limit = min_2_max[0]\n",
    "    max_limit = min_2_max[1]\n",
    "    \n",
    "    limited_df = joined_df[(joined_df['real_count'] > min_limit) & (joined_df['real_count'] < max_limit)]\n",
    "    nr_total_words = len(limited_df)\n",
    "    nr_words_not_used = len(limited_df[limited_df['pred_count'] != 0])\n",
    "    \n",
    "    perc = float(nr_words_not_used) / nr_total_words\n",
    "    print(\"%d -> %d --> %f\"%(min_limit,max_limit,perc))"
   ]
  },
  {
   "cell_type": "code",
   "execution_count": null,
   "metadata": {
    "collapsed": true
   },
   "outputs": [],
   "source": []
  },
  {
   "cell_type": "markdown",
   "metadata": {
    "collapsed": true
   },
   "source": [
    "## Another approch"
   ]
  },
  {
   "cell_type": "code",
   "execution_count": null,
   "metadata": {
    "collapsed": true
   },
   "outputs": [],
   "source": []
  },
  {
   "cell_type": "code",
   "execution_count": null,
   "metadata": {
    "collapsed": true
   },
   "outputs": [],
   "source": []
  },
  {
   "cell_type": "code",
   "execution_count": null,
   "metadata": {
    "collapsed": true
   },
   "outputs": [],
   "source": []
  },
  {
   "cell_type": "code",
   "execution_count": null,
   "metadata": {
    "collapsed": true
   },
   "outputs": [],
   "source": []
  },
  {
   "cell_type": "code",
   "execution_count": null,
   "metadata": {
    "collapsed": true
   },
   "outputs": [],
   "source": []
  }
 ],
 "metadata": {
  "kernelspec": {
   "display_name": "Python 2",
   "language": "python",
   "name": "python2"
  },
  "language_info": {
   "codemirror_mode": {
    "name": "ipython",
    "version": 2
   },
   "file_extension": ".py",
   "mimetype": "text/x-python",
   "name": "python",
   "nbconvert_exporter": "python",
   "pygments_lexer": "ipython2",
   "version": "2.7.13"
  }
 },
 "nbformat": 4,
 "nbformat_minor": 2
}
